{
 "cells": [
  {
   "cell_type": "code",
   "execution_count": 1,
   "metadata": {},
   "outputs": [],
   "source": [
    "from Pylette import extract_colors"
   ]
  },
  {
   "cell_type": "code",
   "execution_count": 6,
   "metadata": {},
   "outputs": [],
   "source": [
    "img_path = '..\\data\\\\Abstract_Expressionism\\\\aaron-siskind_acolman-1-1955.jpg'"
   ]
  },
  {
   "cell_type": "code",
   "execution_count": 7,
   "metadata": {},
   "outputs": [
    {
     "name": "stdout",
     "output_type": "stream",
     "text": [
      "(15, 10, 7)\n",
      "(0.0625, 11.0, -0.4)\n",
      "(0.0625, 0.5333333333333333, 15)\n",
      "15,10,7\n",
      "53,50,49\n",
      "72,69,69\n",
      "34,30,28\n",
      "91,89,88\n",
      "112,110,109\n",
      "135,134,133\n",
      "165,162,161\n",
      "240,239,237\n",
      "198,196,195\n"
     ]
    }
   ],
   "source": [
    "palette = extract_colors(image=img_path, palette_size=10)\n",
    "# Access colors by index\n",
    "most_common_color = palette[0]\n",
    "least_common_color = palette[-1]\n",
    "\n",
    "# Get color information\n",
    "print(most_common_color.rgb)\n",
    "print(most_common_color.hls)\n",
    "print(most_common_color.hsv)\n",
    "\n",
    "# Display the palette, and save the image to file\n",
    "palette.display(save_to_file=True)\n",
    "\n",
    "# Save palette's color values to CSV\n",
    "palette.to_csv(filename='color_palette.csv', frequency=True)\n",
    "\n",
    "# Pick random colors\n",
    "random_color = palette.random_color(N=1, mode='uniform')\n",
    "random_colors = palette.random_color(N=100, mode='frequency')"
   ]
  }
 ],
 "metadata": {
  "kernelspec": {
   "display_name": "dads",
   "language": "python",
   "name": "python3"
  },
  "language_info": {
   "codemirror_mode": {
    "name": "ipython",
    "version": 3
   },
   "file_extension": ".py",
   "mimetype": "text/x-python",
   "name": "python",
   "nbconvert_exporter": "python",
   "pygments_lexer": "ipython3",
   "version": "3.9.13"
  }
 },
 "nbformat": 4,
 "nbformat_minor": 2
}
