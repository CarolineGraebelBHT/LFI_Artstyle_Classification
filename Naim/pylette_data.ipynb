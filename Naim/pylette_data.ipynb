{
 "cells": [
  {
   "cell_type": "code",
   "execution_count": 1,
   "metadata": {},
   "outputs": [],
   "source": [
    "from Pylette import extract_colors\n",
    "import glob\n",
    "import os\n",
    "import pandas as pd\n",
    "import numpy as np\n",
    "import cv2"
   ]
  },
  {
   "cell_type": "code",
   "execution_count": 2,
   "metadata": {},
   "outputs": [],
   "source": [
    "os.chdir(\"..\")"
   ]
  },
  {
   "cell_type": "code",
   "execution_count": 3,
   "metadata": {},
   "outputs": [],
   "source": [
    "data_folders = ['Baroque', 'Impressionism', 'Post_Impressionism', \n",
    "                'Abstract_Expressionism', 'Analytical_Cubism', \n",
    "                'Cubism', 'Synthetic_Cubism', 'Realism', \n",
    "                'New_Realism', 'Contemporary_Realism', \n",
    "                'Early_Renaissance', 'Mannerism_Late_Renaissance', \n",
    "                'Northern_Renaissance', 'High_Renaissance']"
   ]
  },
  {
   "cell_type": "code",
   "execution_count": 4,
   "metadata": {},
   "outputs": [],
   "source": [
    "img_paths = []\n",
    "\n",
    "for folder in data_folders:\n",
    "    folder_path = f'.\\data\\\\{folder}\\\\*.jpg'\n",
    "    # folder_path = './data/*/*.jpg'\n",
    "    paths = glob.glob(folder_path)\n",
    "    img_paths = img_paths + paths"
   ]
  },
  {
   "cell_type": "code",
   "execution_count": null,
   "metadata": {},
   "outputs": [],
   "source": [
    "# img_paths"
   ]
  },
  {
   "cell_type": "code",
   "execution_count": 6,
   "metadata": {},
   "outputs": [],
   "source": [
    "# Palette parameters\n",
    "num_palette_col = 10"
   ]
  },
  {
   "cell_type": "code",
   "execution_count": 9,
   "metadata": {},
   "outputs": [],
   "source": [
    "image_palettes = pd.DataFrame([],\n",
    "        columns=['Style', 'Artist', 'Art Name', 'filename', 'Palette', 'Width', 'Height'])"
   ]
  },
  {
   "cell_type": "code",
   "execution_count": 10,
   "metadata": {},
   "outputs": [],
   "source": [
    "for img in img_paths[:100]:\n",
    "    df_row = {}\n",
    "\n",
    "    extracted_colors = extract_colors(image=img, palette_size=num_palette_col)\n",
    "\n",
    "    df_row['Style'] = img.replace('.\\\\data\\\\', '').split('\\\\')[0]\n",
    "    df_row['Artist'] = img.replace('.\\\\data\\\\', '').split('\\\\')[1].split('_')[0].replace('-', ' ').title()\n",
    "    df_row['Art Name'] = img.replace('.\\\\data\\\\', '').split('\\\\')[1].split('_')[1].replace('.jpg', '').replace('-', ' ').title()\n",
    "    df_row['filename'] = img\n",
    "    palette = [ec.rgb for ec in extracted_colors[:]]\n",
    "    df_row['Palette'] = [np.array(palette)]\n",
    "    loaded_img = cv2.imread(img)\n",
    "    df_row['Width'] = loaded_img.shape[1]\n",
    "    df_row['Height'] = loaded_img.shape[0]\n",
    "\n",
    "    # print(df_row)\n",
    "    image_palettes = pd.concat([image_palettes, pd.DataFrame.from_records(df_row)], ignore_index=True)\n",
    "    # image_palettes.reset_index(inplace=True)\n",
    "    "
   ]
  },
  {
   "cell_type": "code",
   "execution_count": 11,
   "metadata": {},
   "outputs": [
    {
     "data": {
      "text/html": [
       "<div>\n",
       "<style scoped>\n",
       "    .dataframe tbody tr th:only-of-type {\n",
       "        vertical-align: middle;\n",
       "    }\n",
       "\n",
       "    .dataframe tbody tr th {\n",
       "        vertical-align: top;\n",
       "    }\n",
       "\n",
       "    .dataframe thead th {\n",
       "        text-align: right;\n",
       "    }\n",
       "</style>\n",
       "<table border=\"1\" class=\"dataframe\">\n",
       "  <thead>\n",
       "    <tr style=\"text-align: right;\">\n",
       "      <th></th>\n",
       "      <th>Style</th>\n",
       "      <th>Artist</th>\n",
       "      <th>Art Name</th>\n",
       "      <th>filename</th>\n",
       "      <th>Palette</th>\n",
       "      <th>Width</th>\n",
       "      <th>Height</th>\n",
       "    </tr>\n",
       "  </thead>\n",
       "  <tbody>\n",
       "    <tr>\n",
       "      <th>0</th>\n",
       "      <td>Baroque</td>\n",
       "      <td>Adriaen Brouwer</td>\n",
       "      <td>A Boor Asleep</td>\n",
       "      <td>.\\data\\Baroque\\adriaen-brouwer_a-boor-asleep.jpg</td>\n",
       "      <td>[[37, 25, 21], [58, 39, 33], [122, 78, 55], [1...</td>\n",
       "      <td>712</td>\n",
       "      <td>950</td>\n",
       "    </tr>\n",
       "    <tr>\n",
       "      <th>1</th>\n",
       "      <td>Baroque</td>\n",
       "      <td>Adriaen Brouwer</td>\n",
       "      <td>Drinkers In The Yard</td>\n",
       "      <td>.\\data\\Baroque\\adriaen-brouwer_drinkers-in-the...</td>\n",
       "      <td>[[159, 154, 135], [151, 145, 128], [110, 77, 6...</td>\n",
       "      <td>2024</td>\n",
       "      <td>2461</td>\n",
       "    </tr>\n",
       "    <tr>\n",
       "      <th>2</th>\n",
       "      <td>Baroque</td>\n",
       "      <td>Adriaen Brouwer</td>\n",
       "      <td>Dune Landscape By Moonlight</td>\n",
       "      <td>.\\data\\Baroque\\adriaen-brouwer_dune-landscape-...</td>\n",
       "      <td>[[27, 16, 19], [42, 21, 23], [60, 28, 25], [78...</td>\n",
       "      <td>712</td>\n",
       "      <td>513</td>\n",
       "    </tr>\n",
       "    <tr>\n",
       "      <th>3</th>\n",
       "      <td>Baroque</td>\n",
       "      <td>Adriaen Brouwer</td>\n",
       "      <td>Farmers Fight Party</td>\n",
       "      <td>.\\data\\Baroque\\adriaen-brouwer_farmers-fight-p...</td>\n",
       "      <td>[[83, 55, 38], [60, 42, 33], [104, 69, 42], [3...</td>\n",
       "      <td>1272</td>\n",
       "      <td>960</td>\n",
       "    </tr>\n",
       "    <tr>\n",
       "      <th>4</th>\n",
       "      <td>Baroque</td>\n",
       "      <td>Adriaen Brouwer</td>\n",
       "      <td>Father S Of Unpleasant Duties 1631</td>\n",
       "      <td>.\\data\\Baroque\\adriaen-brouwer_father-s-of-unp...</td>\n",
       "      <td>[[65, 69, 74], [40, 55, 75], [83, 84, 88], [12...</td>\n",
       "      <td>774</td>\n",
       "      <td>1189</td>\n",
       "    </tr>\n",
       "    <tr>\n",
       "      <th>...</th>\n",
       "      <td>...</td>\n",
       "      <td>...</td>\n",
       "      <td>...</td>\n",
       "      <td>...</td>\n",
       "      <td>...</td>\n",
       "      <td>...</td>\n",
       "      <td>...</td>\n",
       "    </tr>\n",
       "    <tr>\n",
       "      <th>95</th>\n",
       "      <td>Baroque</td>\n",
       "      <td>Adriaen Van De Venne</td>\n",
       "      <td>Fools Have The Most Fun</td>\n",
       "      <td>.\\data\\Baroque\\adriaen-van-de-venne_fools-have...</td>\n",
       "      <td>[[164, 113, 85], [179, 131, 100], [94, 53, 47]...</td>\n",
       "      <td>1110</td>\n",
       "      <td>815</td>\n",
       "    </tr>\n",
       "    <tr>\n",
       "      <th>96</th>\n",
       "      <td>Baroque</td>\n",
       "      <td>Adriaen Van De Venne</td>\n",
       "      <td>Frontispiece</td>\n",
       "      <td>.\\data\\Baroque\\adriaen-van-de-venne_frontispie...</td>\n",
       "      <td>[[252, 252, 252], [31, 31, 31], [56, 56, 56], ...</td>\n",
       "      <td>750</td>\n",
       "      <td>944</td>\n",
       "    </tr>\n",
       "    <tr>\n",
       "      <th>97</th>\n",
       "      <td>Baroque</td>\n",
       "      <td>Adriaen Van De Venne</td>\n",
       "      <td>Illustration 1</td>\n",
       "      <td>.\\data\\Baroque\\adriaen-van-de-venne_illustrati...</td>\n",
       "      <td>[[247, 247, 247], [225, 225, 225], [27, 27, 27...</td>\n",
       "      <td>800</td>\n",
       "      <td>1063</td>\n",
       "    </tr>\n",
       "    <tr>\n",
       "      <th>98</th>\n",
       "      <td>Baroque</td>\n",
       "      <td>Adriaen Van De Venne</td>\n",
       "      <td>Illustration</td>\n",
       "      <td>.\\data\\Baroque\\adriaen-van-de-venne_illustrati...</td>\n",
       "      <td>[[46, 46, 46], [65, 65, 65], [29, 29, 29], [87...</td>\n",
       "      <td>1036</td>\n",
       "      <td>770</td>\n",
       "    </tr>\n",
       "    <tr>\n",
       "      <th>99</th>\n",
       "      <td>Baroque</td>\n",
       "      <td>Adriaen Van De Venne</td>\n",
       "      <td>Mans Grief</td>\n",
       "      <td>.\\data\\Baroque\\adriaen-van-de-venne_mans-grief...</td>\n",
       "      <td>[[77, 60, 46], [63, 48, 42], [47, 37, 39], [91...</td>\n",
       "      <td>500</td>\n",
       "      <td>332</td>\n",
       "    </tr>\n",
       "  </tbody>\n",
       "</table>\n",
       "<p>100 rows × 7 columns</p>\n",
       "</div>"
      ],
      "text/plain": [
       "      Style                Artist                            Art Name  \\\n",
       "0   Baroque       Adriaen Brouwer                       A Boor Asleep   \n",
       "1   Baroque       Adriaen Brouwer                Drinkers In The Yard   \n",
       "2   Baroque       Adriaen Brouwer         Dune Landscape By Moonlight   \n",
       "3   Baroque       Adriaen Brouwer                 Farmers Fight Party   \n",
       "4   Baroque       Adriaen Brouwer  Father S Of Unpleasant Duties 1631   \n",
       "..      ...                   ...                                 ...   \n",
       "95  Baroque  Adriaen Van De Venne             Fools Have The Most Fun   \n",
       "96  Baroque  Adriaen Van De Venne                        Frontispiece   \n",
       "97  Baroque  Adriaen Van De Venne                      Illustration 1   \n",
       "98  Baroque  Adriaen Van De Venne                        Illustration   \n",
       "99  Baroque  Adriaen Van De Venne                          Mans Grief   \n",
       "\n",
       "                                             filename  \\\n",
       "0    .\\data\\Baroque\\adriaen-brouwer_a-boor-asleep.jpg   \n",
       "1   .\\data\\Baroque\\adriaen-brouwer_drinkers-in-the...   \n",
       "2   .\\data\\Baroque\\adriaen-brouwer_dune-landscape-...   \n",
       "3   .\\data\\Baroque\\adriaen-brouwer_farmers-fight-p...   \n",
       "4   .\\data\\Baroque\\adriaen-brouwer_father-s-of-unp...   \n",
       "..                                                ...   \n",
       "95  .\\data\\Baroque\\adriaen-van-de-venne_fools-have...   \n",
       "96  .\\data\\Baroque\\adriaen-van-de-venne_frontispie...   \n",
       "97  .\\data\\Baroque\\adriaen-van-de-venne_illustrati...   \n",
       "98  .\\data\\Baroque\\adriaen-van-de-venne_illustrati...   \n",
       "99  .\\data\\Baroque\\adriaen-van-de-venne_mans-grief...   \n",
       "\n",
       "                                              Palette Width Height  \n",
       "0   [[37, 25, 21], [58, 39, 33], [122, 78, 55], [1...   712    950  \n",
       "1   [[159, 154, 135], [151, 145, 128], [110, 77, 6...  2024   2461  \n",
       "2   [[27, 16, 19], [42, 21, 23], [60, 28, 25], [78...   712    513  \n",
       "3   [[83, 55, 38], [60, 42, 33], [104, 69, 42], [3...  1272    960  \n",
       "4   [[65, 69, 74], [40, 55, 75], [83, 84, 88], [12...   774   1189  \n",
       "..                                                ...   ...    ...  \n",
       "95  [[164, 113, 85], [179, 131, 100], [94, 53, 47]...  1110    815  \n",
       "96  [[252, 252, 252], [31, 31, 31], [56, 56, 56], ...   750    944  \n",
       "97  [[247, 247, 247], [225, 225, 225], [27, 27, 27...   800   1063  \n",
       "98  [[46, 46, 46], [65, 65, 65], [29, 29, 29], [87...  1036    770  \n",
       "99  [[77, 60, 46], [63, 48, 42], [47, 37, 39], [91...   500    332  \n",
       "\n",
       "[100 rows x 7 columns]"
      ]
     },
     "execution_count": 11,
     "metadata": {},
     "output_type": "execute_result"
    }
   ],
   "source": [
    "image_palettes #.iloc[0]['Artist'].replace('-', ' ').title()"
   ]
  },
  {
   "cell_type": "code",
   "execution_count": 17,
   "metadata": {},
   "outputs": [
    {
     "data": {
      "text/plain": [
       "array([[-106, -118, -105],\n",
       "       [-117, -122, -109],\n",
       "       [  22,   13,    3]])"
      ]
     },
     "execution_count": 17,
     "metadata": {},
     "output_type": "execute_result"
    }
   ],
   "source": [
    "# (image_palettes.iloc[0]['Palette'][:3] - image_palettes.iloc[1]['Palette'][:3])#.mean(axis=0)"
   ]
  },
  {
   "cell_type": "code",
   "execution_count": 18,
   "metadata": {},
   "outputs": [
    {
     "data": {
      "text/plain": [
       "array([-67.        , -75.66666667, -70.33333333])"
      ]
     },
     "execution_count": 18,
     "metadata": {},
     "output_type": "execute_result"
    }
   ],
   "source": [
    "# (image_palettes.iloc[0]['Palette'][:3] - image_palettes.iloc[1]['Palette'][:3]).mean(axis=0)"
   ]
  },
  {
   "cell_type": "code",
   "execution_count": 23,
   "metadata": {},
   "outputs": [
    {
     "data": {
      "text/plain": [
       "0    [[52, 36, 30], [34, 23, 19], [134, 91, 66], [8...\n",
       "1    [[158, 154, 135], [151, 145, 128], [112, 78, 6...\n",
       "2    [[27, 16, 19], [41, 21, 23], [59, 28, 25], [78...\n",
       "3    [[81, 54, 38], [59, 42, 32], [102, 67, 42], [1...\n",
       "4    [[66, 70, 75], [41, 56, 75], [83, 85, 90], [12...\n",
       "5    [[38, 21, 28], [18, 10, 18], [88, 49, 47], [65...\n",
       "6    [[62, 51, 47], [45, 42, 42], [54, 46, 45], [72...\n",
       "7    [[76, 55, 46], [91, 63, 52], [62, 46, 38], [10...\n",
       "8    [[31, 20, 21], [49, 30, 28], [94, 56, 28], [11...\n",
       "9    [[45, 24, 16], [60, 32, 20], [29, 15, 11], [75...\n",
       "Name: Palette, dtype: object"
      ]
     },
     "execution_count": 23,
     "metadata": {},
     "output_type": "execute_result"
    }
   ],
   "source": [
    "# image_palettes.iloc[:10]['Palette']"
   ]
  },
  {
   "cell_type": "code",
   "execution_count": 71,
   "metadata": {},
   "outputs": [],
   "source": [
    "def get_artist_general_palette(df, num_palette = 10, artist_name = None):\n",
    "    \n",
    "    if artist_name is None:\n",
    "        return None\n",
    "        \n",
    "    # -- Color: R\n",
    "    r = [[ip[p_num][0] for ip in df[df['Artist'] == artist_name]['Palette']] for p_num in range(num_palette)]\n",
    "    # -- Color: G\n",
    "    g = [[ip[p_num][1] for ip in df[df['Artist'] == artist_name]['Palette']] for p_num in range(num_palette)]\n",
    "    # -- Color: B\n",
    "    b = [[ip[p_num][2] for ip in df[df['Artist'] == artist_name]['Palette']] for p_num in range(num_palette)]\n",
    "\n",
    "    # Get mean of RGB values for all palette\n",
    "    mean_palette_r = [pd.Series(col).mean() for col in r]\n",
    "    mean_palette_g = [pd.Series(col).mean() for col in g]\n",
    "    mean_palette_b = [pd.Series(col).mean() for col in b]\n",
    "\n",
    "    # Mean palette\n",
    "    mean_palette = [[mean_palette_r[i], mean_palette_g[i], mean_palette_b[i]] for i in range(len(mean_palette_r))]\n",
    "\n",
    "    return mean_palette\n",
    "\n",
    "def get_style_general_palette(df, num_palette = 10, style_name = None):\n",
    "    if style_name is None:\n",
    "        return None\n",
    "        \n",
    "    # -- Color: R\n",
    "    r = [[ip[p_num][0] for ip in df[df['Style'] == style_name]['Palette']] for p_num in range(num_palette)]\n",
    "    # -- Color: G\n",
    "    g = [[ip[p_num][1] for ip in df[df['Style'] == style_name]['Palette']] for p_num in range(num_palette)]\n",
    "    # -- Color: B\n",
    "    b = [[ip[p_num][2] for ip in df[df['Style'] == style_name]['Palette']] for p_num in range(num_palette)]\n",
    "\n",
    "    # Get mean of RGB values for all palette\n",
    "    mean_palette_r = [pd.Series(col).mean() for col in r]\n",
    "    mean_palette_g = [pd.Series(col).mean() for col in g]\n",
    "    mean_palette_b = [pd.Series(col).mean() for col in b]\n",
    "\n",
    "    # Mean palette\n",
    "    mean_palette = [[mean_palette_r[i], mean_palette_g[i], mean_palette_b[i]] for i in range(len(mean_palette_r))]\n",
    "\n",
    "    return mean_palette"
   ]
  },
  {
   "cell_type": "code",
   "execution_count": 72,
   "metadata": {},
   "outputs": [],
   "source": [
    "artist_palettes = pd.DataFrame([], columns=['Artist', 'Palette'])\n",
    "artist_palettes['Artist'] = image_palettes['Artist'].unique()\n",
    "# artist_palettes\n",
    "\n",
    "style_palettes = pd.DataFrame([], columns=['Style', 'Palette'])\n",
    "style_palettes['Style'] = image_palettes['Style'].unique()\n",
    "# style_palettes"
   ]
  },
  {
   "cell_type": "code",
   "execution_count": 73,
   "metadata": {},
   "outputs": [
    {
     "data": {
      "text/html": [
       "<div>\n",
       "<style scoped>\n",
       "    .dataframe tbody tr th:only-of-type {\n",
       "        vertical-align: middle;\n",
       "    }\n",
       "\n",
       "    .dataframe tbody tr th {\n",
       "        vertical-align: top;\n",
       "    }\n",
       "\n",
       "    .dataframe thead th {\n",
       "        text-align: right;\n",
       "    }\n",
       "</style>\n",
       "<table border=\"1\" class=\"dataframe\">\n",
       "  <thead>\n",
       "    <tr style=\"text-align: right;\">\n",
       "      <th></th>\n",
       "      <th>Style</th>\n",
       "      <th>Palette</th>\n",
       "    </tr>\n",
       "  </thead>\n",
       "  <tbody>\n",
       "    <tr>\n",
       "      <th>0</th>\n",
       "      <td>Baroque</td>\n",
       "      <td>[[103.89, 92.09, 82.44], [98.43, 85.83, 74.84]...</td>\n",
       "    </tr>\n",
       "  </tbody>\n",
       "</table>\n",
       "</div>"
      ],
      "text/plain": [
       "     Style                                            Palette\n",
       "0  Baroque  [[103.89, 92.09, 82.44], [98.43, 85.83, 74.84]..."
      ]
     },
     "execution_count": 73,
     "metadata": {},
     "output_type": "execute_result"
    }
   ],
   "source": [
    "artist_palettes['Palette'] = [get_artist_general_palette(image_palettes, num_palette_col, artist) for artist in artist_palettes['Artist'].unique()]\n",
    "artist_palettes\n",
    "\n",
    "style_palettes['Palette'] = [get_style_general_palette(image_palettes, num_palette_col, style) for style in style_palettes['Style'].unique()]\n",
    "style_palettes"
   ]
  }
 ],
 "metadata": {
  "kernelspec": {
   "display_name": "dads",
   "language": "python",
   "name": "python3"
  },
  "language_info": {
   "codemirror_mode": {
    "name": "ipython",
    "version": 3
   },
   "file_extension": ".py",
   "mimetype": "text/x-python",
   "name": "python",
   "nbconvert_exporter": "python",
   "pygments_lexer": "ipython3",
   "version": "3.9.13"
  }
 },
 "nbformat": 4,
 "nbformat_minor": 2
}
